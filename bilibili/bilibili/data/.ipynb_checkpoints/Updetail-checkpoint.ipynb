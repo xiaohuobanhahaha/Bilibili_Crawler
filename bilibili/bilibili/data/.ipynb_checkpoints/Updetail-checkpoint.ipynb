{
 "cells": [
  {
   "cell_type": "code",
   "execution_count": 26,
   "metadata": {
    "scrolled": false
   },
   "outputs": [
    {
     "name": "stderr",
     "output_type": "stream",
     "text": [
      "/anaconda3/lib/python3.7/site-packages/IPython/core/interactiveshell.py:2785: DtypeWarning: Columns (20) have mixed types. Specify dtype option on import or set low_memory=False.\n",
      "  interactivity=interactivity, compiler=compiler, result=result)\n"
     ]
    }
   ],
   "source": [
    "import matplotlib.pyplot as plt\n",
    "import pandas as pd\n",
    "import numpy as np\n",
    "df = pd.read_csv('Bilibili_Info-1.csv',encoding='utf-8')\n",
    "df1=df.drop_duplicates('owner_mid')\n",
    "\n"
   ]
  },
  {
   "cell_type": "code",
   "execution_count": 34,
   "metadata": {},
   "outputs": [],
   "source": [
    "from fake_useragent import UserAgent\n",
    "import requests\n",
    "import csv\n",
    "from time import sleep,ctime\n",
    "import json\n",
    "import jsonpath\n",
    "\n",
    "def Header_Random():\n",
    "    ua = UserAgent()\n",
    "    headers={\n",
    "            \"User-Agent\":ua.random,\n",
    "            'accept': 'image/webp,image/apng,image/*,*/*;q=0.8',\n",
    "            'accept-encoding': 'gzip, deflate, br',\n",
    "            'accept-language': 'zh-CN,zh;q=0.9,en;q=0.8',\n",
    "            'upgrade-insecure-requests': '1',\n",
    "            }\n",
    "    return headers\n",
    "\n",
    "def Link(mid):\n",
    "    Link='https://api.bilibili.com/x/relation/followers?vmid='+mid+'&pn=1&ps=20&order=desc'\n",
    "    return Link\n",
    "\n",
    "def File_Build():\n",
    "    out = open(\"Up_Fan.csv\",\"w\")\n",
    "    writer=csv.writer(out)\n",
    "    writer.writerow(['Owner_mid','Fan'])\n",
    "    out.close\n",
    "\n",
    "def File_Write(Owner_mid,Fan):\n",
    "    out = open(\"Up_Fan.csv\",\"a\")\n",
    "    writer=csv.writer(out) \n",
    "    writer.writerow([Owner_mid,Fan])\n",
    "    out.close\n",
    "\n",
    "def Crawl(a,Link):\n",
    "    headers = Header_Random()\n",
    "    web_data = requests.get(url=Link,headers=headers)\n",
    "    temp = json.loads(web_data.text)\n",
    "    fans=temp['data']['total']\n",
    "    File_Write(a,fans)\n",
    "\n",
    "df1=df.drop_duplicates('owner_mid')\n",
    "for i in range(df1.shape[0]):\n",
    "    try:\n",
    "        a=str(df1['owner_mid'][i])\n",
    "        Link=Link(a)\n",
    "        Crawl(a,Link)\n",
    "    except:\n",
    "        pass\n"
   ]
  },
  {
   "cell_type": "code",
   "execution_count": null,
   "metadata": {},
   "outputs": [],
   "source": []
  }
 ],
 "metadata": {
  "kernelspec": {
   "display_name": "Python 3",
   "language": "python",
   "name": "python3"
  },
  "language_info": {
   "codemirror_mode": {
    "name": "ipython",
    "version": 3
   },
   "file_extension": ".py",
   "mimetype": "text/x-python",
   "name": "python",
   "nbconvert_exporter": "python",
   "pygments_lexer": "ipython3",
   "version": "3.7.0"
  }
 },
 "nbformat": 4,
 "nbformat_minor": 2
}
